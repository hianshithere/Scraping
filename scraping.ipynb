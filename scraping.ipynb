{
 "cells": [
  {
   "cell_type": "code",
   "execution_count": 8,
   "metadata": {},
   "outputs": [],
   "source": [
    "import requests\n",
    "from bs4 import BeautifulSoup as bs"
   ]
  },
  {
   "cell_type": "code",
   "execution_count": 9,
   "metadata": {},
   "outputs": [],
   "source": [
    "# url = \"https://www.amazon.in/AllExtreme-AE-Q8801D-Multifunctional-Portable-Cigarette/dp/B07BJ8MXKF/ref=pd_sbs_263_5?_encoding=UTF8&psc=1&refRID=8F5MDKQYXCJAYK9DZKFX\"\n",
    "# url = \"https://www.amazon.in/Samsung-Galaxy-plus-Midnight-black/dp/B07CNR9CNF/ref=sr_1_1?s=electronics&ie=UTF8&qid=1528629074&sr=1-1&keywords=s9\"\n",
    "# url = \"https://www.amazon.in/Spigen-Hybrid-Case-Samsung-Galaxy/dp/B0789S2LZH/ref=sr_1_19?s=electronics&ie=UTF8&qid=1528629074&sr=1-19&keywords=s9\"\n",
    "url = \"https://www.amazon.in/Seagate-Portable-External-Creative-Photography/dp/B00GASLJK6/ref=gbph_img_m-5_a49b_75221713?smid=A14CZOWI0VEHLG&pf_rd_p=9011bc53-1afe-4112-b163-ab6ef579a49b&pf_rd_s=merchandised-search-5&pf_rd_t=101&pf_rd_i=976392031&pf_rd_m=A1VBAL9TL5WCBF&pf_rd_r=Y5Y1RQSSX9RDARK1YP4W\""
   ]
  },
  {
   "cell_type": "code",
   "execution_count": 10,
   "metadata": {},
   "outputs": [],
   "source": [
    "res = requests.get(url)"
   ]
  },
  {
   "cell_type": "code",
   "execution_count": 11,
   "metadata": {},
   "outputs": [],
   "source": [
    "# parsing HTML from BS\n",
    "PageData = bs(res.text, \"html.parser\")"
   ]
  },
  {
   "cell_type": "code",
   "execution_count": 17,
   "metadata": {},
   "outputs": [
    {
     "ename": "SyntaxError",
     "evalue": "invalid syntax (<ipython-input-17-3735187d5cf3>, line 4)",
     "output_type": "error",
     "traceback": [
      "\u001b[1;36m  File \u001b[1;32m\"<ipython-input-17-3735187d5cf3>\"\u001b[1;36m, line \u001b[1;32m4\u001b[0m\n\u001b[1;33m    print (ProductTitle[].text)\u001b[0m\n\u001b[1;37m                        ^\u001b[0m\n\u001b[1;31mSyntaxError\u001b[0m\u001b[1;31m:\u001b[0m invalid syntax\n"
     ]
    }
   ],
   "source": [
    "# ProductTitle\n",
    "# ProductTitle = PageData.select('#productTitle')\n",
    "ProductTitle = PageData.find('span', attrs={'id': 'productTitle'})\n",
    "print (ProductTitle)"
   ]
  },
  {
   "cell_type": "code",
   "execution_count": null,
   "metadata": {},
   "outputs": [],
   "source": [
    "#  Product price\n",
    "# findPrice = PageData.find('span', attrs={'id': 'priceblock_saleprice'})\n",
    "selTest = PageData.select('#priceblock_saleprice')\n",
    "if(selTest != None):\n",
    "    ProductPrice = selTest\n",
    "#     findPrice\n",
    "    print('Price Not found')\n",
    "else:\n",
    "    ProductPrice = PageData.select('#priceblock_ourprice')\n",
    "\n",
    "#     ProductPrice = PageData.find('span', attrs={'id': 'priceblock_ourprice'})\n",
    "\n",
    "print (ProductPrice[0].text)"
   ]
  },
  {
   "cell_type": "code",
   "execution_count": null,
   "metadata": {},
   "outputs": [],
   "source": [
    "# Product Description\n",
    "ProductDescription = PageData.select('#productDescription')\n",
    "print(ProductDescription[0].text)"
   ]
  },
  {
   "cell_type": "code",
   "execution_count": null,
   "metadata": {},
   "outputs": [],
   "source": []
  }
 ],
 "metadata": {
  "kernelspec": {
   "display_name": "Python 3",
   "language": "python",
   "name": "python3"
  },
  "language_info": {
   "codemirror_mode": {
    "name": "ipython",
    "version": 3
   },
   "file_extension": ".py",
   "mimetype": "text/x-python",
   "name": "python",
   "nbconvert_exporter": "python",
   "pygments_lexer": "ipython3",
   "version": "3.5.2"
  }
 },
 "nbformat": 4,
 "nbformat_minor": 2
}
