{
 "cells": [
  {
   "cell_type": "code",
   "execution_count": 1,
   "metadata": {},
   "outputs": [],
   "source": [
    "# Scraping with find() function of BS\n",
    "import requests\n",
    "from bs4 import BeautifulSoup as bs"
   ]
  },
  {
   "cell_type": "code",
   "execution_count": 2,
   "metadata": {},
   "outputs": [],
   "source": [
    "# URL's\n",
    "# url = \"https://www.amazon.in/RealMe-Diamond-Black-128-GB/dp/B078BNQ313/ref=sr_1_1?s=electronics&ie=UTF8&qid=1528712430&sr=1-1&keywords=realme\"\n",
    "url = \"https://www.amazon.in/Samsung-Galaxy-plus-Midnight-black/dp/B07CNR9CNF/ref=sr_1_1?s=electronics&ie=UTF8&qid=1528713964&sr=1-1&keywords=s9\"\n",
    "# url = \"https://www.amazon.in/My-Experiments-Truth-Autobiography-Mahatma-ebook/dp/B00KJ048MM/ref=pd_rhf_dp_s_ts_1_4?_encoding=UTF8&pd_rd_i=B00KJ048MM&pd_rd_r=BV3MJS60BR9WEHM66NJD&pd_rd_w=6F3aH&pd_rd_wg=UFQBt&psc=1&refRID=BV3MJS60BR9WEHM66NJD\"\n",
    "# url = \"https://www.amazon.in/AllExtreme-AE-Q8801D-Multifunctional-Portable-Cigarette/dp/B07BJ8MXKF/ref=pd_sbs_263_5?_encoding=UTF8&psc=1&refRID=8F5MDKQYXCJAYK9DZKFX\"\n",
    "# url = \"https://www.amazon.in/Samsung-Galaxy-plus-Midnight-black/dp/B07CNR9CNF/ref=sr_1_1?s=electronics&ie=UTF8&qid=1528629074&sr=1-1&keywords=s9\"\n",
    "# url = \"https://www.amazon.in/Spigen-Hybrid-Case-Samsung-Galaxy/dp/B0789S2LZH/ref=sr_1_19?s=electronics&ie=UTF8&qid=1528629074&sr=1-19&keywords=s9\"\n",
    "# url = \"https://www.amazon.in/Seagate-Portable-External-Creative-Photography/dp/B00GASLJK6/ref=gbph_img_m-5_a49b_75221713?smid=A14CZOWI0VEHLG&pf_rd_p=9011bc53-1afe-4112-b163-ab6ef579a49b&pf_rd_s=merchandised-search-5&pf_rd_t=101&pf_rd_i=976392031&pf_rd_m=A1VBAL9TL5WCBF&pf_rd_r=Y5Y1RQSSX9RDARK1YP4W\""
   ]
  },
  {
   "cell_type": "code",
   "execution_count": 3,
   "metadata": {},
   "outputs": [],
   "source": [
    "res = requests.get(url)"
   ]
  },
  {
   "cell_type": "code",
   "execution_count": 4,
   "metadata": {},
   "outputs": [],
   "source": [
    "# parsing HTML from BS\n",
    "PageData = bs(res.text, \"html.parser\")"
   ]
  },
  {
   "cell_type": "code",
   "execution_count": 5,
   "metadata": {},
   "outputs": [
    {
     "name": "stdout",
     "output_type": "stream",
     "text": [
      "Title = Samsung Galaxy S9 plus (Midnight black, 64 GB) (6GB RAM)\n"
     ]
    }
   ],
   "source": [
    "# Product title extraction\n",
    "ProductTitle = PageData.find('span', attrs={'id': 'productTitle'})\n",
    "# print\n",
    "# print (ProductTitle.text.strip())\n",
    "filename = ProductTitle.text.strip()\n",
    "ProductName = \"Title = \"+filename\n",
    "print(ProductName)"
   ]
  },
  {
   "cell_type": "code",
   "execution_count": 6,
   "metadata": {},
   "outputs": [
    {
     "name": "stdout",
     "output_type": "stream",
     "text": [
      "60,380.00\n",
      "Price = 60,380.00\n"
     ]
    }
   ],
   "source": [
    "# Product price extration\n",
    "findPrice = PageData.find('span', attrs={'id': 'priceblock_saleprice'})\n",
    "if (findPrice != None):\n",
    "    ProductPrice = findPrice\n",
    "else:\n",
    "    ProductPrice = PageData.find('span', attrs={'id': 'priceblock_ourprice'})\n",
    "#  print\n",
    "print (ProductPrice.text.strip())\n",
    "price = \"Price = \"+ProductPrice.text.strip()\n",
    "print (price)"
   ]
  },
  {
   "cell_type": "code",
   "execution_count": 7,
   "metadata": {
    "scrolled": true
   },
   "outputs": [
    {
     "name": "stdout",
     "output_type": "stream",
     "text": [
      "Product Description = \n",
      "\n",
      "Super Speed Dual Pixel Camera Infinity Display: edge-to-edge immersive screen, enhancing your entertainment experience IP68 rating: withstands splashes, spills, and rain so it can take a dip, worry-free Internal Memory 64 GB. Expandable Storage up to 400GB Fast Wireless Charging: Avoid the wires and power up quickly by placing your phone on a Fast Wireless Charger\n",
      "\t\t\t\t    \t\n",
      "\t\t\t\t\t\n",
      "\n"
     ]
    }
   ],
   "source": [
    "# Product Description\n",
    "ProductDescription = PageData.select('#productDescription')\n",
    "if(ProductDescription == []):\n",
    "    Description = \"Product Description not available\"\n",
    "    print(Description)\n",
    "else:\n",
    "    Description = \"Product Description = \"+ProductDescription[0].text\n",
    "    print(Description)"
   ]
  },
  {
   "cell_type": "code",
   "execution_count": 8,
   "metadata": {
    "scrolled": true
   },
   "outputs": [
    {
     "name": "stdout",
     "output_type": "stream",
     "text": [
      "-------------------PRODUCT LABEL-----------------------\n",
      "-------------------PRODUCT VALUE-----------------------\n",
      "--------------------Dictionary Data--------------------\n",
      "{u'Batteries:': u'1 Lithium ion batteries required.', u'RAM': u'6 GB', u'ASIN': u'B07CNR9CNF', u'Date First Available': u'5 May 2018', u'Best Sellers Rank': u'#4,394 in Electronics (See top 100)\\n \\n\\n\\n\\n\\n\\n\\n\\n\\n\\n\\n\\n\\n\\n\\n\\n\\n\\n\\n\\n\\n\\n\\n\\n\\n#365\\nin\\xa0Electronics > Mobiles & Tablets > Smartphones & Basic Mobiles > Smartphones', u'Battery Power Rating': u'3500 milliamp_hours', u'Item Weight': u'522 g', u'OS': u'Android', u'Package Dimensions': u'17.4 x 9.4 x 5.8 cm', u'Customer Reviews': u'5.0 out of 5 stars\\n\\n\\n\\n\\n\\n\\n      3 customer reviews'}\n"
     ]
    }
   ],
   "source": [
    "# Product Information || Technical Information\n",
    "# Product Lable\n",
    "print('-------------------PRODUCT LABEL-----------------------')\n",
    "ProductInformationLabel = PageData.select('.label')\n",
    "StrippedLabel = [];\n",
    "for Label in ProductInformationLabel:\n",
    "    StrippedLabel.append(Label.text.strip())\n",
    "    \n",
    "# Product Value\n",
    "print('-------------------PRODUCT VALUE-----------------------')\n",
    "ProductInformationValue = PageData.select('.value')\n",
    "StrippedValue = [];\n",
    "for Value in ProductInformationValue:\n",
    "    StrippedValue.append(Value.text.strip()) \n",
    "# print('-------------------------------------------------------')\n",
    "# # Length is same for value and label\n",
    "# print ('length of Value = ',len(ProductInformationValue))\n",
    "# print ('length of Label = ',len(ProductInformationLabel))\n",
    "print('--------------------Dictionary Data--------------------')\n",
    "ProductInfo = dict(zip(StrippedLabel,StrippedValue))\n",
    "ProductInfo.get\n",
    "print(ProductInfo)"
   ]
  },
  {
   "cell_type": "code",
   "execution_count": 20,
   "metadata": {},
   "outputs": [
    {
     "name": "stdout",
     "output_type": "stream",
     "text": [
      "('Batteries:', u'1 Lithium ion batteries required.')\n",
      "('RAM', u'6 GB')\n",
      "('ASIN', u'B07CNR9CNF')\n",
      "('Date First Available', u'5 May 2018')\n",
      "('Best Sellers Rank', u'#4,394 in Electronics (See top 100)\\n \\n\\n\\n\\n\\n\\n\\n\\n\\n\\n\\n\\n\\n\\n\\n\\n\\n\\n\\n\\n\\n\\n\\n\\n\\n#365\\nin\\xa0Electronics > Mobiles & Tablets > Smartphones & Basic Mobiles > Smartphones')\n",
      "('Battery Power Rating', u'3500 milliamp_hours')\n",
      "('Item Weight', u'522 g')\n",
      "('OS', u'Android')\n",
      "('Package Dimensions', u'17.4 x 9.4 x 5.8 cm')\n",
      "('Customer Reviews', u'5.0 out of 5 stars\\n\\n\\n\\n\\n\\n\\n      3 customer reviews')\n"
     ]
    }
   ],
   "source": [
    "# file Write\n",
    "# WritingFile = open(\"C:\\\\Users\\\\Subhodeep\\\\Desktop\\\\Anshit Kumar Sharma\\\\Scraping-master\\\\Files\\\\\"+filename+\".txt\",\"a\")\n",
    "for key in ProductInfo.keys():\n",
    "    label = str(key)\n",
    "    value = ProductInfo[key]\n",
    "    print(label,value)\n",
    "#     WritingFile.write(label + ' : '+ value)"
   ]
  },
  {
   "cell_type": "code",
   "execution_count": 11,
   "metadata": {},
   "outputs": [],
   "source": [
    "# WritingFile.write(ProductName+\"||\")\n",
    "# WritingFile.write(price+\"||\")\n",
    "# WritingFile.write(Description+\"||\")\n",
    "# # WritingFile.write(ProductInfo+\"||\")\n",
    "# WritingFile.close()\n",
    "\n"
   ]
  },
  {
   "cell_type": "code",
   "execution_count": null,
   "metadata": {},
   "outputs": [],
   "source": []
  }
 ],
 "metadata": {
  "kernelspec": {
   "display_name": "Python 2",
   "language": "python",
   "name": "python2"
  },
  "language_info": {
   "codemirror_mode": {
    "name": "ipython",
    "version": 2
   },
   "file_extension": ".py",
   "mimetype": "text/x-python",
   "name": "python",
   "nbconvert_exporter": "python",
   "pygments_lexer": "ipython2",
   "version": "2.7.15"
  }
 },
 "nbformat": 4,
 "nbformat_minor": 2
}
